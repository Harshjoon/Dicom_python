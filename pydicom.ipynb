{
 "cells": [
  {
   "cell_type": "code",
   "execution_count": 2,
   "id": "e83ababc",
   "metadata": {},
   "outputs": [],
   "source": [
    "'''\n",
    "pip install pydicom\n",
    "pip install git+https://github.com/pydicom/pydicom-data/\n",
    "import pydicom; pydicom.data.fetch_data_files()\n",
    "pip install pillow\n",
    "pip install git+https://github.com/Who8MyLunch/CharPyLS\n",
    "pip install python-gdcm\n",
    "'''\n",
    "import pydicom"
   ]
  },
  {
   "cell_type": "code",
   "execution_count": 3,
   "id": "93400129",
   "metadata": {},
   "outputs": [
    {
     "name": "stdout",
     "output_type": "stream",
     "text": [
      "Collecting git+https://github.com/pydicom/pydicom-data/\n",
      "  Cloning https://github.com/pydicom/pydicom-data/ to c:\\users\\nitish borade\\appdata\\local\\temp\\pip-req-build-b2mg9zo1\n",
      "  Resolved https://github.com/pydicom/pydicom-data/ to commit cbb9b2148bccf0f550e3758c07aca3d0e328e768\n",
      "  Preparing metadata (setup.py): started\n",
      "  Preparing metadata (setup.py): finished with status 'done'\n",
      "Building wheels for collected packages: pydicom-data\n",
      "  Building wheel for pydicom-data (setup.py): started\n",
      "  Building wheel for pydicom-data (setup.py): finished with status 'done'\n",
      "  Created wheel for pydicom-data: filename=pydicom_data-1.0.0-py3-none-any.whl size=34128415 sha256=44abeb61f1ed5b68878a3f4acfac75a6c86a0db0522072c7e8c9f3aa24e28fce\n",
      "  Stored in directory: C:\\Users\\Nitish Borade\\AppData\\Local\\Temp\\pip-ephem-wheel-cache-29pn0rtt\\wheels\\99\\54\\b3\\f82f14434dc9e1bbbfd13e64bc412bff0eb7cb65d245b0bce8\n",
      "Successfully built pydicom-data\n",
      "Installing collected packages: pydicom-data\n",
      "Successfully installed pydicom-data-1.0.0\n",
      "Note: you may need to restart the kernel to use updated packages.\n"
     ]
    },
    {
     "name": "stderr",
     "output_type": "stream",
     "text": [
      "  Running command git clone --filter=blob:none --quiet https://github.com/pydicom/pydicom-data/ 'C:\\Users\\Nitish Borade\\AppData\\Local\\Temp\\pip-req-build-b2mg9zo1'\n"
     ]
    }
   ],
   "source": [
    "pip install git+https://github.com/pydicom/pydicom-data/"
   ]
  },
  {
   "cell_type": "code",
   "execution_count": null,
   "id": "a14acc0c",
   "metadata": {
    "scrolled": false
   },
   "outputs": [
    {
     "name": "stderr",
     "output_type": "stream",
     "text": [
      "693_J2KR.dcm: 100%|██████████████████████████████████████████████████████████████████| 107k/107k [00:00<00:00, 166kB/s]\n",
      "693_UNCI.dcm: 100%|██████████████████████████████████████████████████████████████████| 526k/526k [00:03<00:00, 164kB/s]\n",
      "693_UNCR.dcm: 100%|██████████████████████████████████████████████████████████████████| 526k/526k [00:03<00:00, 166kB/s]\n",
      "bad_sequence.dcm: 100%|██████████████████████████████████████████████████████████████| 184k/184k [00:01<00:00, 161kB/s]\n",
      "color-pl.dcm: 100%|████████████████████████████████████████████████████████████████| 93.3k/93.3k [00:00<00:00, 162kB/s]\n",
      "color-px.dcm: 100%|████████████████████████████████████████████████████████████████| 93.3k/93.3k [00:00<00:00, 163kB/s]\n",
      "color3d_jpeg_baseline.dcm: 100%|███████████████████████████████████████████████████| 6.14M/6.14M [00:37<00:00, 163kB/s]\n",
      "eCT_Supplemental.dcm: 100%|████████████████████████████████████████████████████████| 1.05M/1.05M [00:06<00:00, 166kB/s]\n",
      "emri_small.dcm: 100%|██████████████████████████████████████████████████████████████| 84.3k/84.3k [00:00<00:00, 167kB/s]\n",
      "emri_small_big_endian.dcm: 100%|███████████████████████████████████████████████████| 84.3k/84.3k [00:00<00:00, 158kB/s]\n",
      "emri_small_jpeg_2k_lossless.dcm: 100%|█████████████████████████████████████████████| 40.3k/40.3k [00:00<00:00, 125kB/s]\n",
      "emri_small_jpeg_2k_lossless_too_short.dcm: 100%|███████████████████████████████████| 40.3k/40.3k [00:00<00:00, 160kB/s]\n",
      "emri_small_jpeg_ls_lossless.dcm: 100%|█████████████████████████████████████████████| 42.8k/42.8k [00:00<00:00, 159kB/s]\n",
      "emri_small_RLE.dcm: 100%|██████████████████████████████████████████████████████████| 49.0k/49.0k [00:00<00:00, 167kB/s]\n",
      "explicit_VR-UN.dcm: 100%|████████████████████████████████████████████████████████████| 186k/186k [00:01<00:00, 163kB/s]\n",
      "gdcm-US-ALOKA-16.dcm: 100%|██████████████████████████████████████████████████████████| 873k/873k [00:05<00:00, 164kB/s]\n",
      "gdcm-US-ALOKA-16_big.dcm: 100%|██████████████████████████████████████████████████████| 873k/873k [00:05<00:00, 166kB/s]\n",
      "JPEG-LL.dcm: 100%|███████████████████████████████████████████████████████████████████| 119k/119k [00:00<00:00, 163kB/s]\n",
      "JPEG2000_UNC.dcm: 100%|██████████████████████████████████████████████████████████████| 527k/527k [00:03<00:00, 166kB/s]\n",
      "JPGLosslessP14SV1_1s_1f_8b.dcm: 100%|████████████████████████████████████████████████| 215k/215k [00:01<00:00, 168kB/s]\n",
      "liver.dcm: 100%|█████████████████████████████████████████████████████████████████████| 103k/103k [00:00<00:00, 166kB/s]\n",
      "liver_expb.dcm: 100%|████████████████████████████████████████████████████████████████| 102k/102k [00:00<00:00, 169kB/s]\n",
      "mlut_18.dcm: 100%|███████████████████████████████████████████████████████████████████| 533k/533k [00:03<00:00, 166kB/s]\n",
      "MR-SIEMENS-DICOM-WithOverlays.dcm: 100%|█████████████████████████████████████████████| 511k/511k [00:03<00:00, 167kB/s]\n",
      "MR2_J2KI.dcm: 100%|██████████████████████████████████████████████████████████████████| 114k/114k [00:00<00:00, 166kB/s]\n",
      "MR2_J2KR.dcm: 100%|██████████████████████████████████████████████████████████████████| 589k/589k [00:03<00:00, 168kB/s]\n",
      "MR2_UNCI.dcm: 100%|████████████████████████████████████████████████████████████████| 2.10M/2.10M [00:12<00:00, 168kB/s]\n",
      "MR2_UNCR.dcm: 100%|████████████████████████████████████████████████████████████████| 2.10M/2.10M [00:12<00:00, 167kB/s]\n",
      "OBXXXX1A.dcm: 100%|██████████████████████████████████████████████████████████████████| 486k/486k [00:02<00:00, 168kB/s]\n",
      "OBXXXX1A_2frame.dcm: 100%|███████████████████████████████████████████████████████████| 966k/966k [00:05<00:00, 167kB/s]\n",
      "OBXXXX1A_expb.dcm: 100%|█████████████████████████████████████████████████████████████| 486k/486k [00:02<00:00, 167kB/s]\n",
      "OBXXXX1A_expb_2frame.dcm: 100%|██████████████████████████████████████████████████████| 966k/966k [00:05<00:00, 167kB/s]\n",
      "OBXXXX1A_rle.dcm: 100%|████████████████████████████████████████████████████████████| 48.9k/48.9k [00:00<00:00, 169kB/s]\n",
      "OBXXXX1A_rle_2frame.dcm: 100%|█████████████████████████████████████████████████████| 91.8k/91.8k [00:00<00:00, 169kB/s]\n",
      "OT-PAL-8-face.dcm: 100%|█████████████████████████████████████████████████████████████| 309k/309k [00:01<00:00, 165kB/s]\n",
      "RG1_J2KI.dcm: 100%|██████████████████████████████████████████████████████████████████| 677k/677k [00:04<00:00, 166kB/s]\n",
      "RG1_J2KR.dcm: 100%|████████████████████████████████████████████████████████████████| 4.29M/4.29M [00:25<00:00, 166kB/s]\n",
      "RG1_UNCI.dcm: 100%|████████████████████████████████████████████████████████████████| 7.20M/7.20M [00:43<00:00, 166kB/s]\n",
      "RG1_UNCR.dcm: 100%|████████████████████████████████████████████████████████████████| 7.20M/7.20M [00:43<00:00, 167kB/s]\n",
      "RG3_J2KI.dcm: 100%|██████████████████████████████████████████████████████████████████| 207k/207k [00:01<00:00, 166kB/s]\n",
      "RG3_J2KR.dcm: 100%|██████████████████████████████████████████████████████████████████| 832k/832k [00:04<00:00, 168kB/s]\n",
      "RG3_UNCI.dcm: 100%|████████████████████████████████████████████████████████████████| 6.20M/6.20M [00:37<00:00, 166kB/s]\n",
      "RG3_UNCR.dcm: 100%|████████████████████████████████████████████████████████████████| 6.20M/6.20M [00:37<00:00, 167kB/s]\n",
      "SC_rgb.dcm: 100%|██████████████████████████████████████████████████████████████████| 31.3k/31.3k [00:00<00:00, 169kB/s]\n",
      "SC_rgb_16bit.dcm: 100%|████████████████████████████████████████████████████████████| 61.3k/61.3k [00:00<00:00, 169kB/s]\n",
      "SC_rgb_16bit_2frame.dcm: 100%|███████████████████████████████████████████████████████| 121k/121k [00:00<00:00, 167kB/s]\n",
      "SC_rgb_2frame.dcm: 100%|███████████████████████████████████████████████████████████| 61.3k/61.3k [00:00<00:00, 169kB/s]\n",
      "SC_rgb_32bit.dcm: 100%|██████████████████████████████████████████████████████████████| 121k/121k [00:00<00:00, 169kB/s]\n",
      "SC_rgb_32bit_2frame.dcm: 100%|███████████████████████████████████████████████████████| 241k/241k [00:01<00:00, 169kB/s]\n",
      "SC_rgb_dcmtk_ebcr_dcmd.dcm: 100%|██████████████████████████████████████████████████| 31.7k/31.7k [00:00<00:00, 166kB/s]\n",
      "SC_rgb_dcmtk_ebcyn1_dcmd.dcm: 100%|████████████████████████████████████████████████| 31.7k/31.7k [00:00<00:00, 173kB/s]\n",
      "SC_rgb_dcmtk_ebcyn2_dcmd.dcm: 100%|████████████████████████████████████████████████| 31.7k/31.7k [00:00<00:00, 160kB/s]\n",
      "SC_rgb_dcmtk_ebcynp_dcmd.dcm: 100%|████████████████████████████████████████████████| 31.7k/31.7k [00:00<00:00, 171kB/s]\n",
      "SC_rgb_dcmtk_ebcys2_dcmd.dcm: 100%|████████████████████████████████████████████████| 31.7k/31.7k [00:00<00:00, 174kB/s]\n",
      "SC_rgb_dcmtk_ebcys4_dcmd.dcm: 100%|████████████████████████████████████████████████| 31.7k/31.7k [00:00<00:00, 154kB/s]\n",
      "SC_rgb_expb.dcm: 100%|█████████████████████████████████████████████████████████████| 31.3k/31.3k [00:00<00:00, 172kB/s]\n",
      "SC_rgb_expb_16bit.dcm: 100%|███████████████████████████████████████████████████████| 61.3k/61.3k [00:00<00:00, 166kB/s]\n",
      "SC_rgb_expb_16bit_2frame.dcm: 100%|██████████████████████████████████████████████████| 121k/121k [00:00<00:00, 168kB/s]\n",
      "SC_rgb_expb_2frame.dcm: 100%|██████████████████████████████████████████████████████| 61.3k/61.3k [00:00<00:00, 174kB/s]\n",
      "SC_rgb_expb_32bit.dcm: 100%|█████████████████████████████████████████████████████████| 121k/121k [00:00<00:00, 173kB/s]\n",
      "SC_rgb_expb_32bit_2frame.dcm: 100%|██████████████████████████████████████████████████| 241k/241k [00:01<00:00, 165kB/s]\n",
      "SC_rgb_gdcm2k_uncompressed.dcm: 100%|██████████████████████████████████████████████| 31.7k/31.7k [00:00<00:00, 161kB/s]\n",
      "SC_ybr_full_uncompressed.dcm: 100%|████████████████████████████████████████████████| 31.7k/31.7k [00:00<00:00, 160kB/s]\n",
      "US1_J2KI.dcm: 100%|████████████████████████████████████████████████████████████████| 59.1k/59.1k [00:00<00:00, 153kB/s]\n",
      "US1_J2KR.dcm: 100%|██████████████████████████████████████████████████████████████████| 154k/154k [00:00<00:00, 166kB/s]\n",
      "US1_UNCI.dcm:  88%|█████████████████████████████████████████████████████████▉        | 810k/923k [00:04<00:00, 169kB/s]"
     ]
    }
   ],
   "source": [
    "import pydicom; pydicom.data.fetch_data_files()"
   ]
  },
  {
   "cell_type": "code",
   "execution_count": null,
   "id": "866ec3db",
   "metadata": {},
   "outputs": [],
   "source": [
    "pip install pillow"
   ]
  },
  {
   "cell_type": "code",
   "execution_count": null,
   "id": "667bdc09",
   "metadata": {},
   "outputs": [],
   "source": [
    "pip install git+https://github.com/Who8MyLunch/CharPyLS"
   ]
  },
  {
   "cell_type": "code",
   "execution_count": null,
   "id": "81abd53e",
   "metadata": {},
   "outputs": [],
   "source": [
    "pip install python-gdcm"
   ]
  },
  {
   "cell_type": "code",
   "execution_count": null,
   "id": "37dc1065",
   "metadata": {},
   "outputs": [],
   "source": [
    "pip install python-gdcm"
   ]
  },
  {
   "cell_type": "code",
   "execution_count": null,
   "id": "e3874f6f",
   "metadata": {},
   "outputs": [],
   "source": []
  }
 ],
 "metadata": {
  "kernelspec": {
   "display_name": "Python 3 (ipykernel)",
   "language": "python",
   "name": "python3"
  },
  "language_info": {
   "codemirror_mode": {
    "name": "ipython",
    "version": 3
   },
   "file_extension": ".py",
   "mimetype": "text/x-python",
   "name": "python",
   "nbconvert_exporter": "python",
   "pygments_lexer": "ipython3",
   "version": "3.9.13"
  }
 },
 "nbformat": 4,
 "nbformat_minor": 5
}
